{
 "cells": [
  {
   "cell_type": "code",
   "execution_count": 1,
   "metadata": {},
   "outputs": [],
   "source": [
    "corpus = ['<s> I am Sam </s>', '<s> Sam I am </s>', '<s> I am Sam </s>','<s> I do not like green eggs and Sam </s>']"
   ]
  },
  {
   "cell_type": "code",
   "execution_count": 3,
   "metadata": {},
   "outputs": [],
   "source": [
    "corpus = [i.split(' ') for i in corpus]"
   ]
  },
  {
   "cell_type": "code",
   "execution_count": 4,
   "metadata": {},
   "outputs": [
    {
     "data": {
      "text/plain": [
       "[['<s>', 'I', 'am', 'Sam', '</s>'],\n",
       " ['<s>', 'Sam', 'I', 'am', '</s>'],\n",
       " ['<s>', 'I', 'am', 'Sam', '</s>'],\n",
       " ['<s>', 'I', 'do', 'not', 'like', 'green', 'eggs', 'and', 'Sam', '</s>']]"
      ]
     },
     "execution_count": 4,
     "metadata": {},
     "output_type": "execute_result"
    }
   ],
   "source": [
    "corpus"
   ]
  },
  {
   "cell_type": "code",
   "execution_count": 39,
   "metadata": {},
   "outputs": [],
   "source": [
    "def unigram(corpus):\n",
    "    prob_dict = {}\n",
    "    total_N   = 0\n",
    "    for i in corpus:\n",
    "        for j in i:\n",
    "            total_N += 1\n",
    "            if j in prob_dict:\n",
    "                prob_dict[j] += 1\n",
    "            else:\n",
    "                prob_dict[j] = 1\n",
    "    \n",
    "    prob_dict = {i:(j/total_N) for i,j in prob_dict.items()}\n",
    "    return prob_dict\n",
    "            \n",
    "    "
   ]
  },
  {
   "cell_type": "code",
   "execution_count": 72,
   "metadata": {},
   "outputs": [
    {
     "data": {
      "text/plain": [
       "{'<s>': 0.16,\n",
       " 'I': 0.16,\n",
       " 'am': 0.12,\n",
       " 'Sam': 0.16,\n",
       " '</s>': 0.16,\n",
       " 'do': 0.04,\n",
       " 'not': 0.04,\n",
       " 'like': 0.04,\n",
       " 'green': 0.04,\n",
       " 'eggs': 0.04,\n",
       " 'and': 0.04}"
      ]
     },
     "execution_count": 72,
     "metadata": {},
     "output_type": "execute_result"
    }
   ],
   "source": [
    "unigram(corpus)"
   ]
  },
  {
   "cell_type": "code",
   "execution_count": 70,
   "metadata": {},
   "outputs": [],
   "source": [
    "def bigram(corpus):\n",
    "    prob_dict = {}\n",
    "    indi_dict = {}\n",
    "    for i in corpus:\n",
    "        for j in range(len(i)-1):\n",
    "            if (i[j],i[j+1]) in prob_dict:\n",
    "                prob_dict[(i[j],i[j+1])] += 1\n",
    "                if i[j] in indi_dict:\n",
    "                    indi_dict[i[j]] += 1\n",
    "                else: \n",
    "                    indi_dict[i[j]] = 1\n",
    "            else:\n",
    "                prob_dict[(i[j],i[j+1])] = 1\n",
    "                if i[j] in indi_dict:\n",
    "                    indi_dict[i[j]] += 1\n",
    "                else: \n",
    "                    indi_dict[i[j]] = 1\n",
    "    \n",
    "    prob_dict = {i: j / indi_dict[i[0]] for i,j in prob_dict.items()}\n",
    "    \n",
    "    \n",
    "    return prob_dict"
   ]
  },
  {
   "cell_type": "code",
   "execution_count": 71,
   "metadata": {},
   "outputs": [
    {
     "data": {
      "text/plain": [
       "{('<s>', 'I'): 0.75,\n",
       " ('I', 'am'): 0.75,\n",
       " ('am', 'Sam'): 0.6666666666666666,\n",
       " ('Sam', '</s>'): 0.75,\n",
       " ('<s>', 'Sam'): 0.25,\n",
       " ('Sam', 'I'): 0.25,\n",
       " ('am', '</s>'): 0.3333333333333333,\n",
       " ('I', 'do'): 0.25,\n",
       " ('do', 'not'): 1.0,\n",
       " ('not', 'like'): 1.0,\n",
       " ('like', 'green'): 1.0,\n",
       " ('green', 'eggs'): 1.0,\n",
       " ('eggs', 'and'): 1.0,\n",
       " ('and', 'Sam'): 1.0}"
      ]
     },
     "execution_count": 71,
     "metadata": {},
     "output_type": "execute_result"
    }
   ],
   "source": [
    "bigram(corpus)"
   ]
  }
 ],
 "metadata": {
  "kernelspec": {
   "display_name": "Python 3.8.10 64-bit",
   "language": "python",
   "name": "python3"
  },
  "language_info": {
   "codemirror_mode": {
    "name": "ipython",
    "version": 3
   },
   "file_extension": ".py",
   "mimetype": "text/x-python",
   "name": "python",
   "nbconvert_exporter": "python",
   "pygments_lexer": "ipython3",
   "version": "3.8.10"
  },
  "orig_nbformat": 4,
  "vscode": {
   "interpreter": {
    "hash": "916dbcbb3f70747c44a77c7bcd40155683ae19c65e1c03b4aa3499c5328201f1"
   }
  }
 },
 "nbformat": 4,
 "nbformat_minor": 2
}
