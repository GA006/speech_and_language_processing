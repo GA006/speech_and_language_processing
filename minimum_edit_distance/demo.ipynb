{
 "cells": [
  {
   "cell_type": "code",
   "execution_count": 1,
   "metadata": {},
   "outputs": [],
   "source": [
    "import numpy as np\n",
    "import min_edit_dist"
   ]
  },
  {
   "cell_type": "code",
   "execution_count": 2,
   "metadata": {},
   "outputs": [],
   "source": [
    "source = 'leda'\n",
    "target = 'deal'\n",
    "del_c = 1\n",
    "ins_c = 1\n",
    "subs_c = 2\n",
    "retrac = True\n"
   ]
  },
  {
   "cell_type": "code",
   "execution_count": 3,
   "metadata": {},
   "outputs": [
    {
     "name": "stdout",
     "output_type": "stream",
     "text": [
      "Minimum Edit Distance:  4\n",
      "Best path is:  [(0, 0), (1, 1), (2, 2), (3, 2), (4, 3), (4, 4)]\n",
      "Alignment:\n",
      "leda|\n",
      "de|al\n"
     ]
    }
   ],
   "source": [
    "min_edit_dist.minimum_edit_distance(source, target, del_c, ins_c, subs_c, retrac)"
   ]
  }
 ],
 "metadata": {
  "interpreter": {
   "hash": "916dbcbb3f70747c44a77c7bcd40155683ae19c65e1c03b4aa3499c5328201f1"
  },
  "kernelspec": {
   "display_name": "Python 3.8.10 64-bit",
   "language": "python",
   "name": "python3"
  },
  "language_info": {
   "codemirror_mode": {
    "name": "ipython",
    "version": 3
   },
   "file_extension": ".py",
   "mimetype": "text/x-python",
   "name": "python",
   "nbconvert_exporter": "python",
   "pygments_lexer": "ipython3",
   "version": "3.8.10"
  },
  "orig_nbformat": 4
 },
 "nbformat": 4,
 "nbformat_minor": 2
}
